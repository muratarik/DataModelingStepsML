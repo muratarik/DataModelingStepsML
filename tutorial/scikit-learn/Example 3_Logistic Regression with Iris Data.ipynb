{
 "cells": [
  {
   "cell_type": "markdown",
   "metadata": {},
   "source": [
    "## Example 2: Logistic Regression with Iris Data"
   ]
  },
  {
   "cell_type": "code",
   "execution_count": 1,
   "metadata": {},
   "outputs": [],
   "source": [
    "# Import the required libraries\n",
    "import numpy as np\n",
    "from sklearn.datasets import load_iris\n",
    "import warnings\n",
    "warnings.filterwarnings(\"ignore\")\n",
    "\n",
    "\n",
    "#Import the learning algorithm\n",
    "from sklearn.linear_model import LogisticRegression\n",
    "\n",
    "# Split iris data in train and test data\n",
    "X, y = load_iris(return_X_y=True)\n"
   ]
  },
  {
   "cell_type": "markdown",
   "metadata": {},
   "source": [
    "### Step 1,2: Data Preprocessing, Feature Engineering"
   ]
  },
  {
   "cell_type": "code",
   "execution_count": null,
   "metadata": {},
   "outputs": [],
   "source": [
    "# No need for Preprocessing and any feature selection"
   ]
  },
  {
   "cell_type": "markdown",
   "metadata": {},
   "source": [
    "### Step 3: Train/Test Data Splitting"
   ]
  },
  {
   "cell_type": "code",
   "execution_count": 2,
   "metadata": {},
   "outputs": [],
   "source": [
    "# Split iris data in train and test data\n",
    "# A random permutation, to split the data randomly\n",
    "iris_X_train = X[:-20]\n",
    "iris_X_test  = X[-20:]\n",
    "iris_y_train = y[:-20]\n",
    "iris_y_test  = y[-20:]"
   ]
  },
  {
   "cell_type": "markdown",
   "metadata": {},
   "source": [
    "### Step 4: Model Creation and Training"
   ]
  },
  {
   "cell_type": "code",
   "execution_count": 3,
   "metadata": {},
   "outputs": [
    {
     "data": {
      "text/plain": [
       "0.9533333333333334"
      ]
     },
     "execution_count": 3,
     "metadata": {},
     "output_type": "execute_result"
    }
   ],
   "source": [
    "# Create and fit a linear regression model and predict the target values\n",
    "# Model training with fit function\n",
    "\n",
    "clf = LogisticRegression(random_state=0, solver='lbfgs',multi_class='ovr').fit(X, y)\n",
    "\n",
    "# Result with the trained model\n",
    "clf.predict(X[:2, :])\n",
    "clf.predict_proba(X[:2, :])\n",
    "\n",
    "#Evalution of the algorithm\n",
    "clf.score(X, y)"
   ]
  },
  {
   "cell_type": "markdown",
   "metadata": {},
   "source": [
    "### Step 5: Model Evaluation"
   ]
  },
  {
   "cell_type": "code",
   "execution_count": 4,
   "metadata": {},
   "outputs": [],
   "source": [
    "# The mean square error\n",
    "\n",
    "# Explained variance score: 1 is perfect prediction\n",
    "# and 0 means that there is no linear relationship\n",
    "# between X and y.\n"
   ]
  },
  {
   "cell_type": "markdown",
   "metadata": {},
   "source": [
    "### Advanced Analysis for Model Selection and Evaluation \n",
    "\n",
    "#### Cross Validation "
   ]
  },
  {
   "cell_type": "code",
   "execution_count": 5,
   "metadata": {},
   "outputs": [
    {
     "name": "stdout",
     "output_type": "stream",
     "text": [
      "[1.         1.         1.         0.93333333 0.93333333 0.93333333\n",
      " 0.8        0.93333333 1.         1.        ]\n",
      "cv_scores mean:0.9533333333333334\n"
     ]
    }
   ],
   "source": [
    "# Import CV from model selection section\n",
    "from sklearn.model_selection import cross_val_score\n",
    "\n",
    "\n",
    "#A new KNN model for CV\n",
    "Logregr_CV = LogisticRegression()\n",
    "\n",
    "\n",
    "#train model with cv of 10 \n",
    "cv_scores = cross_val_score(Logregr_CV, X, y, cv=10)\n",
    "\n",
    "\n",
    "#print each cv score (accuracy) and average them\n",
    "print(cv_scores)\n",
    "print('cv_scores mean:{}'.format(np.mean(cv_scores)))\n",
    "\n",
    "\n",
    "# import warnings filter\n",
    "from warnings import simplefilter\n",
    "# ignore all future warnings\n",
    "simplefilter(action='ignore', category=FutureWarning)"
   ]
  },
  {
   "cell_type": "markdown",
   "metadata": {},
   "source": [
    "#### Tuning model Parameters using GridSearch"
   ]
  },
  {
   "cell_type": "code",
   "execution_count": 6,
   "metadata": {},
   "outputs": [
    {
     "name": "stdout",
     "output_type": "stream",
     "text": [
      "{'C': 21.544346900318832, 'solver': 'liblinear'}\n",
      "Best C: 21.544346900318832\n",
      "Best Solver: liblinear\n"
     ]
    }
   ],
   "source": [
    "# Finding the hyperparameter value of the learning algorithm giving the best model\n",
    "\n",
    "from sklearn.model_selection import GridSearchCV\n",
    "\n",
    "\n",
    "# CReate a new KNN for GS\n",
    "\n",
    "Iris_LogR = LogisticRegression()\n",
    "\n",
    "# Create a model parameter list - Parameter list you can supply for your ML algorithm\n",
    "# Create regularization penalty space\n",
    "#penalty = ['l1', 'l2']\n",
    "\n",
    "# Create regularization hyperparameter space\n",
    "C = np.logspace(0, 4, 10)\n",
    "\n",
    "# Optimization algorithms for Linear Regression\n",
    "solver = ['lbfgs', 'liblinear', 'sag', 'saga']\n",
    "# Create hyperparameter options\n",
    "hyperparameters = dict(C=C, solver= solver)\n",
    "\n",
    "\n",
    "# GridSearchCV will give you best parameters' list with cross validation \n",
    "LogR_GS = GridSearchCV(Iris_LogR, hyperparameters, cv=10)\n",
    "LogR_GS.fit(iris_X_train,iris_y_train)\n",
    "\n",
    "\n",
    "## Find the best parameters for KNN\n",
    "print(LogR_GS.best_params_)\n",
    "\n",
    "## Find the best score with the best parameters\n",
    "LogR_GS.best_score_# Create regularization penalty space\n",
    "\n",
    "#print('Best Penalty:', LogR_GS.best_estimator_.get_params()['penalty'])\n",
    "print('Best C:', LogR_GS.best_estimator_.get_params()['C'])\n",
    "print('Best Solver:', LogR_GS.best_estimator_.get_params()['solver'])\n",
    "\n",
    "\n",
    "# import warnings filter\n",
    "from warnings import simplefilter\n",
    "# ignore all future warnings\n",
    "simplefilter(action='ignore', category=FutureWarning)\n",
    "\n"
   ]
  },
  {
   "cell_type": "code",
   "execution_count": null,
   "metadata": {},
   "outputs": [],
   "source": []
  }
 ],
 "metadata": {
  "kernelspec": {
   "display_name": "Python 3",
   "language": "python",
   "name": "python3"
  },
  "language_info": {
   "codemirror_mode": {
    "name": "ipython",
    "version": 3
   },
   "file_extension": ".py",
   "mimetype": "text/x-python",
   "name": "python",
   "nbconvert_exporter": "python",
   "pygments_lexer": "ipython3",
   "version": "3.7.4"
  }
 },
 "nbformat": 4,
 "nbformat_minor": 4
}
