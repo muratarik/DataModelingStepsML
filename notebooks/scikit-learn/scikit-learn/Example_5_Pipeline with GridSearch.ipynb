{
 "cells": [
  {
   "cell_type": "code",
   "execution_count": 2,
   "metadata": {},
   "outputs": [],
   "source": [
    "from sklearn.datasets import load_iris\n",
    "from sklearn.model_selection import train_test_split\n",
    "from sklearn.decomposition import PCA\n",
    "from sklearn.preprocessing import StandardScaler\n",
    "from sklearn import tree\n",
    "from sklearn.pipeline import Pipeline"
   ]
  },
  {
   "cell_type": "markdown",
   "metadata": {},
   "source": [
    "### Load the data and split it for training"
   ]
  },
  {
   "cell_type": "code",
   "execution_count": 3,
   "metadata": {},
   "outputs": [],
   "source": [
    "# Load and Split the Dataset\n",
    "\n",
    "iris_DS = load_iris()\n",
    "\n",
    "X_train, X_test, y_train, y_test = train_test_split(iris_DS.data, iris_DS.target, test_size=0.2)"
   ]
  },
  {
   "cell_type": "markdown",
   "metadata": {},
   "source": [
    "### Simple Pipeline for Decision Tree classifier"
   ]
  },
  {
   "cell_type": "code",
   "execution_count": 4,
   "metadata": {},
   "outputs": [
    {
     "name": "stdout",
     "output_type": "stream",
     "text": [
      "Test accuracy: 0.867\n"
     ]
    }
   ],
   "source": [
    "# Create the pipeline\n",
    "\n",
    "pipe_lines = Pipeline([('scl', StandardScaler()),\n",
    "    ('pca',PCA(n_components=2)), ('clf', tree.DecisionTreeClassifier(random_state=42))])\n",
    "\n",
    "pipe_lines.fit(X_train, y_train)\n",
    "\n",
    "print('Test accuracy: %.3f' % pipe_lines.score(X_test,y_test))"
   ]
  },
  {
   "cell_type": "markdown",
   "metadata": {},
   "source": [
    "#### Pipeline with GridSearch"
   ]
  },
  {
   "cell_type": "code",
   "execution_count": 5,
   "metadata": {},
   "outputs": [
    {
     "name": "stdout",
     "output_type": "stream",
     "text": [
      "Best accuracy: 0.942\n",
      "\n",
      " Best params: \n",
      " {'clf__criterion': 'gini', 'clf__max_depth': 5, 'clf__min_samples_leaf': 2, 'clf__min_samples_split': 2, 'clf__presort': True}\n"
     ]
    },
    {
     "name": "stderr",
     "output_type": "stream",
     "text": [
      "C:\\Anaconda_3\\lib\\site-packages\\sklearn\\model_selection\\_search.py:814: DeprecationWarning: The default of the `iid` parameter will change from True to False in version 0.22 and will be removed in 0.24. This will change numeric results when test-set sizes are unequal.\n",
      "  DeprecationWarning)\n"
     ]
    }
   ],
   "source": [
    "import numpy as np\n",
    "from sklearn.model_selection import GridSearchCV\n",
    "param_range = [1,2,3,4,5]\n",
    "\n",
    "# Grid search parameters for Decision Tree\n",
    "\n",
    "grid_params = [{'clf__criterion': ['gini', 'entropy'],\n",
    "\t\t'clf__min_samples_leaf': param_range,\n",
    "\t\t'clf__max_depth': param_range,\n",
    "\t\t'clf__min_samples_split': param_range[1:],\n",
    "\t\t'clf__presort': [True, False]}]\n",
    "\n",
    "GS_with_DS = GridSearchCV(pipe_lines, grid_params, scoring='accuracy',\n",
    "            cv=10)\n",
    "\n",
    "GS_with_DS.fit(X_train,y_train)\n",
    "\n",
    "print('Best accuracy: %.3f' % GS_with_DS.best_score_)\n",
    "print('\\n Best params: \\n', GS_with_DS.best_params_)\n",
    "\n",
    "\n"
   ]
  },
  {
   "cell_type": "code",
   "execution_count": 6,
   "metadata": {},
   "outputs": [
    {
     "name": "stdout",
     "output_type": "stream",
     "text": [
      "Pipeline(memory=None,\n",
      "         steps=[('scl',\n",
      "                 StandardScaler(copy=True, with_mean=True, with_std=True)),\n",
      "                ('pca',\n",
      "                 PCA(copy=True, iterated_power='auto', n_components=2,\n",
      "                     random_state=None, svd_solver='auto', tol=0.0,\n",
      "                     whiten=False)),\n",
      "                ('clf',\n",
      "                 DecisionTreeClassifier(class_weight=None, criterion='gini',\n",
      "                                        max_depth=5, max_features=None,\n",
      "                                        max_leaf_nodes=None,\n",
      "                                        min_impurity_decrease=0.0,\n",
      "                                        min_impurity_split=None,\n",
      "                                        min_samples_leaf=2, min_samples_split=2,\n",
      "                                        min_weight_fraction_leaf=0.0,\n",
      "                                        presort=True, random_state=42,\n",
      "                                        splitter='best'))],\n",
      "         verbose=False)\n"
     ]
    }
   ],
   "source": [
    "dt_model = GS_with_DS.best_estimator_\n",
    "print(dt_model)"
   ]
  },
  {
   "cell_type": "code",
   "execution_count": null,
   "metadata": {},
   "outputs": [],
   "source": []
  },
  {
   "cell_type": "code",
   "execution_count": null,
   "metadata": {},
   "outputs": [],
   "source": []
  }
 ],
 "metadata": {
  "kernelspec": {
   "display_name": "Python 3",
   "language": "python",
   "name": "python3"
  },
  "language_info": {
   "codemirror_mode": {
    "name": "ipython",
    "version": 3
   },
   "file_extension": ".py",
   "mimetype": "text/x-python",
   "name": "python",
   "nbconvert_exporter": "python",
   "pygments_lexer": "ipython3",
   "version": "3.7.4"
  }
 },
 "nbformat": 4,
 "nbformat_minor": 4
}
